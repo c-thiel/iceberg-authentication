{
 "cells": [
  {
   "cell_type": "code",
   "execution_count": null,
   "id": "66be9dbf-271f-4fda-8e7f-4f74e993e81a",
   "metadata": {},
   "outputs": [],
   "source": [
    "import requests\n",
    "import jwt\n",
    "from pprint import pprint"
   ]
  },
  {
   "cell_type": "markdown",
   "id": "3576792b-1505-429b-b435-36d4c27d409e",
   "metadata": {},
   "source": [
    "# Client-Credentials for Machine to Machine Authentication"
   ]
  },
  {
   "cell_type": "markdown",
   "id": "58be28a8-85ec-4a8a-85d2-6d682f294902",
   "metadata": {},
   "source": [
    "## A: Client-Side"
   ]
  },
  {
   "cell_type": "code",
   "execution_count": null,
   "id": "a18391e0-cf15-4bbe-b78d-4deda1bd2d36",
   "metadata": {},
   "outputs": [],
   "source": [
    "CATALOG_CLIENT_ID = \"iceberg-catalog\"\n",
    "CLIENT_ID = \"iceberg-machine-client\"\n",
    "CLIENT_SECRET = \"M2HyiuJRJupuOEaCVni2wLDXAf2GZeCi\"\n",
    "TOKEN_URL = \"http://keycloak:8080/realms/iceberg/protocol/openid-connect/token\"\n",
    "\n",
    "oauth2_properties = {\n",
    "    \"client-id\": CLIENT_ID,\n",
    "    \"client-secret\": CLIENT_SECRET,\n",
    "    \"token-endpoint\": TOKEN_URL,\n",
    "    \"scope\": CATALOG_CLIENT_ID,\n",
    "    \"grant-type\": \"client-credentials\",\n",
    "}\n",
    "\n",
    "# ---------------- Handled in Iceberg Package ----------------\n",
    "# \"catalog\" should be the default scope to preserve current behaviour.\n",
    "# To enable separation of AuthN and AuthZ, clients should offer a way to not request any scope.\n",
    "scope = oauth2_properties.get(\"scope\", \"catalog\")\n",
    "\n",
    "required_params = {\n",
    "    \"grant_type\": \"client_credentials\",\n",
    "    \"client_id\": oauth2_properties[\"client-id\"],\n",
    "    \"client_secret\": oauth2_properties[\"client-secret\"],\n",
    "}\n",
    "\n",
    "optional_params = {}\n",
    "if scope is not None:\n",
    "    optional_params[\"scope\"] = scope\n",
    "\n",
    "response = requests.post(\n",
    "    url=oauth2_properties[\"token-endpoint\"],\n",
    "    data={**required_params, **optional_params},\n",
    "    headers={\"Content-type\": \"application/x-www-form-urlencoded\"},\n",
    ")\n",
    "response.raise_for_status()\n",
    "\n",
    "# The returned token has an \"expires_in\" field which should be respected.\n",
    "# Clients should fetch a new token if a previously assigned token is expired.\n",
    "print(\"**Response from Token Endpoint**\")\n",
    "pprint(response.json())\n",
    "access_token = response.json()[\"access_token\"]\n",
    "print(\"\\n\\n**Token Introspection**\")\n",
    "pprint(jwt.decode(access_token, options={\"verify_signature\": False}))"
   ]
  },
  {
   "cell_type": "markdown",
   "id": "131e3437-d6dd-4e09-8bc6-09f92b665c6c",
   "metadata": {},
   "source": [
    "## B: Server Side"
   ]
  },
  {
   "cell_type": "code",
   "execution_count": null,
   "id": "355ad086-269f-4394-80be-36c67ddbdba5",
   "metadata": {},
   "outputs": [],
   "source": [
    "# ------------------- Server side -------------------\n",
    "# Information only needed by the server:\n",
    "TOKEN_INTROSPECTION_URI = (\n",
    "    \"http://keycloak:8080/realms/iceberg/protocol/openid-connect/token/introspect\"\n",
    ")\n",
    "CATALOG_AUTH_CHECK_CLIENT_ID = \"iceberg-catalog-authenticator\"\n",
    "CATALOG_AUTH_CHECK_CLIENT_SECRET = \"UDeCLaqjSisBBcL8h4JctCXcXdP9f0Jo\"\n",
    "\n",
    "# 1. Validate token - there are different ways to do this including token introspection and local JWT introspection\n",
    "# We are using token introspection endpoint as an example here, because it allows the use of opaque tokens as well.\n",
    "# If only jwt tokens are used, local jwks validation is typically more performant but doens't offer point-in-time logout.\n",
    "response = requests.post(\n",
    "    url=TOKEN_INTROSPECTION_URI,\n",
    "    data={\"token\": access_token},\n",
    "    headers={\"Content-type\": \"application/x-www-form-urlencoded\"},\n",
    "    auth=(CATALOG_AUTH_CHECK_CLIENT_ID, CATALOG_AUTH_CHECK_CLIENT_SECRET),\n",
    ")\n",
    "response.raise_for_status()\n",
    "\n",
    "# 2. Check Audience / Scope / Resouce\n",
    "# Depending on your specific setup, check if the token is intended for this service by\n",
    "# checking the scope, audience (aud) or resource field.\n",
    "if CATALOG_CLIENT_ID in response.json()[\"aud\"]:\n",
    "    print(f\"You may proceed {response.json()['client_id']} :)\")\n",
    "    print(f\"Subject: {response.json()['sub']}\")\n",
    "else:\n",
    "    print(\"Unauthenticated!\")"
   ]
  },
  {
   "cell_type": "code",
   "execution_count": null,
   "id": "b453d7cd-e622-4d63-903b-30ec23a2e735",
   "metadata": {},
   "outputs": [],
   "source": []
  }
 ],
 "metadata": {
  "kernelspec": {
   "display_name": "Python 3 (ipykernel)",
   "language": "python",
   "name": "python3"
  },
  "language_info": {
   "codemirror_mode": {
    "name": "ipython",
    "version": 3
   },
   "file_extension": ".py",
   "mimetype": "text/x-python",
   "name": "python",
   "nbconvert_exporter": "python",
   "pygments_lexer": "ipython3",
   "version": "3.11.9"
  }
 },
 "nbformat": 4,
 "nbformat_minor": 5
}
